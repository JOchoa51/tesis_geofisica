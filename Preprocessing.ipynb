{
 "cells": [
  {
   "cell_type": "code",
   "execution_count": 73,
   "metadata": {},
   "outputs": [],
   "source": [
    "import pandas as pd\n",
    "import numpy as np\n",
    "import matplotlib.pyplot as plt\n",
    "\n",
    "# import scienceplots\n",
    "# plt.style.use(['science','notebook','grid'])\n",
    "\n",
    "plt.rcParams.update({\n",
    "    # \"lines.color\": \"white\",\n",
    "    # \"patch.edgecolor\": \"white\",\n",
    "    # \"text.color\": \"white\",\n",
    "    # \"axes.facecolor\": \"#383838\",\n",
    "    # \"axes.edgecolor\": \"lightgray\",\n",
    "    # \"axes.labelcolor\": \"white\",\n",
    "    # \"xtick.color\": \"white\",\n",
    "    # \"ytick.color\": \"white\",\n",
    "    # \"grid.color\": \"lightgray\",\n",
    "    # \"figure.facecolor\": \"black\",\n",
    "    # \"figure.edgecolor\": \"black\",\n",
    "    # \"savefig.facecolor\": \"auto\",\n",
    "    # \"savefig.edgecolor\": \"black\",\n",
    "\t# \"savefig.directory\":savepath,\n",
    "    \"font.family\":'Times New Roman',\n",
    "\t'figure.titleweight': 'bold',\n",
    "\t'figure.labelweight': 'bold',\n",
    "\t'figure.dpi':100})\n"
   ]
  },
  {
   "cell_type": "code",
   "execution_count": 74,
   "metadata": {},
   "outputs": [],
   "source": [
    "\n",
    "s = 'Suelo\tMagnitud\tProfundidad\tDistancia_km\tarea_integral\tFFT_AmpMax\tFFTFreq_AmpMax\tFFT_power\tFFT_std\tFFT_q50\tFFT_kurtosis\tFFT_skew\tDist_hipocentro\tPGA_Gal'\n",
    "s = s.split()\n"
   ]
  },
  {
   "cell_type": "code",
   "execution_count": 75,
   "metadata": {},
   "outputs": [],
   "source": [
    "from sklearn.preprocessing import TargetEncoder #type: ignore\n",
    "\n",
    "\n",
    "data_og = pd.read_csv(r'C:\\Users\\huevo\\Documents\\GeofisicaFIUNAM\\Tesis\\DATOS\\Datos_completo_Vs30.csv')#.dropna(axis=0)\n",
    "\n",
    "data = data_og[(data_og['Calidad'] != 'X')]# & (data_og['Calidad'] != 'S/C')]\n",
    "\n",
    "# area_integral FFT_AmpMax\tFFTFreq_AmpMax\tFFT_power\tFFT_std\tFFT_q50\tFFT_kurtosis\tFFT_skew\n",
    "values = 'Suelo Vs30\tMw*\tProfundidad\tDistancia_km\t\t\tDist_hipocentro\tPGA_Gal'.split()\n",
    "data = data[values]\n",
    "# data = data.drop(columns=['Clave','Lat_estacion', 'Lon_estacion', 'Fecha','Escala_magnitud','Lat_epicentro', 'Lon_epicentro', 'Calidad', 'Procedencia_datos', 'Fs_hz', 'Canales','Canal_1','Canal_2',\t'Canal_3',\t'Canal_4',\t'Canal_5',\t'Canal_6',\t'Canal_7',\t'Canal_8',\t'Canal_9','Column1']) # ,'Unnamed: 0'\n",
    "data = data.reindex(columns = [col for col in data.columns if col != 'PGA_Gal'] + ['PGA_Gal'])\n",
    "\n",
    "data.to_csv(r'C:\\Users\\huevo\\Documents\\GeofisicaFIUNAM\\Tesis\\DATOS\\Datos_entrenamiento_NC_Mw.csv', index=False)\n",
    "# data_og.iloc[1135]"
   ]
  },
  {
   "cell_type": "code",
   "execution_count": 76,
   "metadata": {},
   "outputs": [
    {
     "name": "stdout",
     "output_type": "stream",
     "text": [
      "continuous\n",
      "18963\n"
     ]
    },
    {
     "name": "stderr",
     "output_type": "stream",
     "text": [
      "C:\\Users\\huevo\\AppData\\Local\\Temp\\ipykernel_35232\\3148439497.py:13: FutureWarning: Downcasting behavior in `replace` is deprecated and will be removed in a future version. To retain the old behavior, explicitly call `result.infer_objects(copy=False)`. To opt-in to the future behavior, set `pd.set_option('future.no_silent_downcasting', True)`\n",
      "  data['Suelo'] = data['Suelo'].replace(code)\n"
     ]
    },
    {
     "data": {
      "text/html": [
       "<div>\n",
       "<style scoped>\n",
       "    .dataframe tbody tr th:only-of-type {\n",
       "        vertical-align: middle;\n",
       "    }\n",
       "\n",
       "    .dataframe tbody tr th {\n",
       "        vertical-align: top;\n",
       "    }\n",
       "\n",
       "    .dataframe thead th {\n",
       "        text-align: right;\n",
       "    }\n",
       "</style>\n",
       "<table border=\"1\" class=\"dataframe\">\n",
       "  <thead>\n",
       "    <tr style=\"text-align: right;\">\n",
       "      <th></th>\n",
       "      <th>Suelo</th>\n",
       "      <th>Vs30</th>\n",
       "      <th>Mw*</th>\n",
       "      <th>Profundidad</th>\n",
       "      <th>Distancia_km</th>\n",
       "      <th>Dist_hipocentro</th>\n",
       "      <th>PGA_Gal</th>\n",
       "    </tr>\n",
       "  </thead>\n",
       "  <tbody>\n",
       "    <tr>\n",
       "      <th>0</th>\n",
       "      <td>44.276666</td>\n",
       "      <td>431.98129</td>\n",
       "      <td>5.01</td>\n",
       "      <td>50.0</td>\n",
       "      <td>27.436095</td>\n",
       "      <td>57.032791</td>\n",
       "      <td>230.226</td>\n",
       "    </tr>\n",
       "    <tr>\n",
       "      <th>1</th>\n",
       "      <td>44.276666</td>\n",
       "      <td>299.77307</td>\n",
       "      <td>6.93</td>\n",
       "      <td>84.0</td>\n",
       "      <td>229.794746</td>\n",
       "      <td>244.666355</td>\n",
       "      <td>59.241</td>\n",
       "    </tr>\n",
       "    <tr>\n",
       "      <th>2</th>\n",
       "      <td>44.276666</td>\n",
       "      <td>424.53152</td>\n",
       "      <td>6.93</td>\n",
       "      <td>84.0</td>\n",
       "      <td>137.512718</td>\n",
       "      <td>161.138907</td>\n",
       "      <td>199.404</td>\n",
       "    </tr>\n",
       "    <tr>\n",
       "      <th>3</th>\n",
       "      <td>44.276666</td>\n",
       "      <td>431.98129</td>\n",
       "      <td>6.93</td>\n",
       "      <td>84.0</td>\n",
       "      <td>414.740081</td>\n",
       "      <td>423.161122</td>\n",
       "      <td>26.432</td>\n",
       "    </tr>\n",
       "    <tr>\n",
       "      <th>4</th>\n",
       "      <td>44.276666</td>\n",
       "      <td>335.64410</td>\n",
       "      <td>6.93</td>\n",
       "      <td>84.0</td>\n",
       "      <td>215.051706</td>\n",
       "      <td>230.874936</td>\n",
       "      <td>17.628</td>\n",
       "    </tr>\n",
       "  </tbody>\n",
       "</table>\n",
       "</div>"
      ],
      "text/plain": [
       "       Suelo       Vs30   Mw*  Profundidad  Distancia_km  Dist_hipocentro  \\\n",
       "0  44.276666  431.98129  5.01         50.0     27.436095        57.032791   \n",
       "1  44.276666  299.77307  6.93         84.0    229.794746       244.666355   \n",
       "2  44.276666  424.53152  6.93         84.0    137.512718       161.138907   \n",
       "3  44.276666  431.98129  6.93         84.0    414.740081       423.161122   \n",
       "4  44.276666  335.64410  6.93         84.0    215.051706       230.874936   \n",
       "\n",
       "   PGA_Gal  \n",
       "0  230.226  \n",
       "1   59.241  \n",
       "2  199.404  \n",
       "3   26.432  \n",
       "4   17.628  "
      ]
     },
     "execution_count": 76,
     "metadata": {},
     "output_type": "execute_result"
    }
   ],
   "source": [
    "\n",
    "X = data.iloc[:,:-1]\n",
    "y = data.iloc[:,-1]\n",
    "te = TargetEncoder(smooth=100.0).fit(X,y)\n",
    "target = TargetEncoder(smooth=100.0).fit_transform(X,y)\n",
    "print(te.target_type_)\n",
    "df = pd.DataFrame(np.c_[te.categories_[0], te.encodings_[0]], columns=['Categories','Encodings'])\n",
    "df.to_csv(r'C:\\Users\\huevo\\Documents\\GeofisicaFIUNAM\\Tesis\\DATOS\\Suelo_encoding_key.csv', index=False)\n",
    "\n",
    "code = {}\n",
    "for target, encoding in zip(te.categories_[0], te.encodings_[0]):\n",
    "\tcode[target] = encoding\n",
    "\n",
    "data['Suelo'] = data['Suelo'].replace(code)\n",
    "data.to_csv(r'C:\\Users\\huevo\\Documents\\GeofisicaFIUNAM\\Tesis\\DATOS\\Datos_entrenamiento_Mw.csv', index=False)\n",
    "print(data.size)\n",
    "data.head()\n"
   ]
  },
  {
   "cell_type": "code",
   "execution_count": 77,
   "metadata": {},
   "outputs": [
    {
     "data": {
      "text/plain": [
       "['C:\\\\Users\\\\huevo\\\\Documents\\\\GeofisicaFIUNAM\\\\Tesis\\\\PROGRAMAS\\\\Modelos\\\\Modelos con Mw\\\\Encodings.pkl']"
      ]
     },
     "execution_count": 77,
     "metadata": {},
     "output_type": "execute_result"
    }
   ],
   "source": [
    "from joblib import dump\n",
    "\n",
    "dump(df, r'C:\\Users\\huevo\\Documents\\GeofisicaFIUNAM\\Tesis\\PROGRAMAS\\Modelos\\Modelos con Mw\\Encodings.pkl')"
   ]
  },
  {
   "cell_type": "markdown",
   "metadata": {},
   "source": [
    "# Preprocesamiento\n",
    "\n",
    "1. Seleccionar calidades diferentes de X\n",
    "2. Codificar variables categoricas (Target Encoder)\n",
    "3. Separar train_test\n",
    "4. Estandarizar\n"
   ]
  },
  {
   "cell_type": "markdown",
   "metadata": {},
   "source": [
    "## Get dummies"
   ]
  },
  {
   "cell_type": "code",
   "execution_count": 78,
   "metadata": {},
   "outputs": [],
   "source": [
    "# Variables categoricas no necesarias para el entrenamiento del modelo (ya están correlacionadas entre sí con otras variables numéricas o no son relevantes)\n",
    "# training_data = data.drop(columns=['Clave','Lat_estacion', 'Lon_estacion', 'Fecha','Lat_epicentro', 'Lon_epicentro', 'Calidad', 'Procedencia_datos', 'Fs_hz'])\n",
    "# # 'area_integral','Fs_hz','FFT_AmpMax','FFTFreq_AmpMax','FFT_power','FFT_std','FFT_q50','FFT_kurtosis','FFT_skew'\n",
    "\n",
    "# # Self-explanatory\n",
    "# categorized = pd.get_dummies(training_data, columns=['Suelo'])\n",
    "\n",
    "# # Cambia la columna objetivo al final\n",
    "# categorized = categorized.reindex(columns = [col for col in categorized.columns if col != 'PGA_Gal'] + ['PGA_Gal']).drop(columns='Unnamed: 0')\n",
    "# training_data = training_data.reindex(columns = [col for col in training_data.columns if col != 'PGA_Gal'] + ['PGA_Gal']).drop(columns='Unnamed: 0')\n",
    "\n",
    "# categorized.to_csv(r'C:\\Users\\huevo\\Documents\\GeofisicaFIUNAM\\Tesis\\DATOS\\Datos_entrenamiento.csv', index=False)\n",
    "# training_data.to_csv(r'C:\\Users\\huevo\\Documents\\GeofisicaFIUNAM\\Tesis\\DATOS\\Datos_entrenamiento_NC.csv', index=False)"
   ]
  },
  {
   "cell_type": "code",
   "execution_count": 79,
   "metadata": {},
   "outputs": [],
   "source": [
    "# training_data.head()"
   ]
  },
  {
   "cell_type": "code",
   "execution_count": 80,
   "metadata": {},
   "outputs": [],
   "source": [
    "# print(f'Tamaño del dataset: {categorized.size} elementos')\n",
    "# print(categorized.shape)"
   ]
  }
 ],
 "metadata": {
  "kernelspec": {
   "display_name": "Python 3",
   "language": "python",
   "name": "python3"
  },
  "language_info": {
   "codemirror_mode": {
    "name": "ipython",
    "version": 3
   },
   "file_extension": ".py",
   "mimetype": "text/x-python",
   "name": "python",
   "nbconvert_exporter": "python",
   "pygments_lexer": "ipython3",
   "version": "3.11.3"
  }
 },
 "nbformat": 4,
 "nbformat_minor": 2
}
